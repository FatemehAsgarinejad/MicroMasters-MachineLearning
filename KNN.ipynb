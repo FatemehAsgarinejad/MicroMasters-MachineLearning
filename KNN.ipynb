{
 "cells": [
  {
   "cell_type": "code",
   "execution_count": 3,
   "metadata": {},
   "outputs": [],
   "source": [
    "#KNN: k nearest neighbors for classification\n",
    "#Mnest: manifold of integer numbers \n",
    "\n",
    "#Kullback-Leiber divergence or relative entropy\n",
    "def relative_entropy(p,q):\n",
    "    summation = 0\n",
    "    if len(p) != len(q):\n",
    "        return(\"The size of datasets does not match\")\n",
    "    for i in range(len(p)):\n",
    "        summation += p[i]* math.log(p[i]/q[i])\n",
    "    return summation\n",
    "#An extremal type of cross-validation is n-fold cross-validation on a training set of size .\n",
    "#If we want to estimate the error of -NN, this amounts to classifying each training point by\n",
    "#running -NN on the remaining  points, and then looking at the fraction of mistakes made. \n",
    "#It is commonly called leave-one-out cross-validation (LOOCV)"
   ]
  },
  {
   "cell_type": "markdown",
   "metadata": {},
   "source": [
    "<p style=\"background-color:gold\">Nearest neigbor classification for handwritten digit recognition</p>\n",
    "<p style=\"color:gray\">Classifying hand-written digits</p>\n",
    "\n"
   ]
  },
  {
   "cell_type": "code",
   "execution_count": 4,
   "metadata": {},
   "outputs": [],
   "source": [
    "#Importing the libraries\n",
    "import numpy as np\n",
    "import time\n",
    "import matplotlib.pyplot as plt"
   ]
  },
  {
   "cell_type": "code",
   "execution_count": 10,
   "metadata": {},
   "outputs": [
    {
     "data": {
      "text/plain": [
       "(7500, 784)"
      ]
     },
     "execution_count": 10,
     "metadata": {},
     "output_type": "execute_result"
    }
   ],
   "source": [
    "#Loading the training and testing data\n",
    "address = '/Users/fatemeh/Desktop/MicroMasters|MachineLearning'\n",
    "train_data = np.load(address + '/NN_MNIST/NN_MNIST/MNIST/train_data.npy')\n",
    "train_data.shape"
   ]
  },
  {
   "cell_type": "code",
   "execution_count": 22,
   "metadata": {},
   "outputs": [
    {
     "name": "stdout",
     "output_type": "stream",
     "text": [
      "there are 7500 digits, each consisting of 784 values varring between 0 to 255\n"
     ]
    }
   ],
   "source": [
    "len(train_data[0]), len(train_data[7499])\n",
    "print('there are 7500 digits, each consisting of 784 values varring between 0 to 255')"
   ]
  },
  {
   "cell_type": "markdown",
   "metadata": {},
   "source": [
    "<p style=\"background-color:tomato\">Nonesense</p>"
   ]
  },
  {
   "cell_type": "code",
   "execution_count": 30,
   "metadata": {},
   "outputs": [
    {
     "data": {
      "text/plain": [
       "<BarContainer object of 58 artists>"
      ]
     },
     "execution_count": 30,
     "metadata": {},
     "output_type": "execute_result"
    },
    {
     "data": {
      "image/png": "[encoded data removed]",
      "text/plain": [
       "<Figure size 432x288 with 1 Axes>"
      ]
     },
     "metadata": {
      "needs_background": "light"
     },
     "output_type": "display_data"
    }
   ],
   "source": [
    "#plotting the cumulative distribution of the values for a single picture\n",
    "sample =train_data[0]\n",
    "sample = np.sort(sample)\n",
    "s_dict = {}\n",
    "for i in sample:\n",
    "    if i in s_dict:\n",
    "        s_dict[i] +=1\n",
    "    else:\n",
    "        s_dict[i] =1\n",
    "plt.bar(s_dict.keys(), s_dict.values())"
   ]
  },
  {
   "cell_type": "code",
   "execution_count": 32,
   "metadata": {},
   "outputs": [
    {
     "name": "stdout",
     "output_type": "stream",
     "text": [
      "The majority of the values are 0!\n"
     ]
    }
   ],
   "source": [
    "print(\"The majority of the values are 0!\")"
   ]
  },
  {
   "cell_type": "code",
   "execution_count": 35,
   "metadata": {},
   "outputs": [
    {
     "data": {
      "text/plain": [
       "<BarContainer object of 57 artists>"
      ]
     },
     "execution_count": 35,
     "metadata": {},
     "output_type": "execute_result"
    },
    {
     "data": {
      "image/png": "[encoded data removed]",
      "text/plain": [
       "<Figure size 432x288 with 1 Axes>"
      ]
     },
     "metadata": {
      "needs_background": "light"
     },
     "output_type": "display_data"
    }
   ],
   "source": [
    "#Without 0\n",
    "#del s_dict[0]\n",
    "plt.bar(s_dict.keys(), s_dict.values())"
   ]
  },
  {
   "cell_type": "markdown",
   "metadata": {},
   "source": [
    "<p style=\"background-color:tomato\">.</p>"
   ]
  },
  {
   "cell_type": "code",
   "execution_count": null,
   "metadata": {},
   "outputs": [],
   "source": []
  }
 ],
 "metadata": {
  "kernelspec": {
   "display_name": "Python 3.6 (tensorflow)",
   "language": "python",
   "name": "tensorflow"
  },
  "language_info": {
   "codemirror_mode": {
    "name": "ipython",
    "version": 3
   },
   "file_extension": ".py",
   "mimetype": "text/x-python",
   "name": "python",
   "nbconvert_exporter": "python",
   "pygments_lexer": "ipython3",
   "version": "3.5.6"
  }
 },
 "nbformat": 4,
 "nbformat_minor": 2
}
